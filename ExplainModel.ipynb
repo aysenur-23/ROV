{
  "nbformat": 4,
  "nbformat_minor": 0,
  "metadata": {
    "colab": {
      "provenance": []
    },
    "kernelspec": {
      "name": "python3",
      "display_name": "Python 3"
    },
    "language_info": {
      "name": "python"
    }
  },
  "cells": [
    {
      "cell_type": "code",
      "source": [
        "!nvidia-smi  # NVIDIA GPU durumunu ve bilgilerini görüntüler\n"
      ],
      "metadata": {
        "id": "RcBJJ1aEGPjx"
      },
      "execution_count": null,
      "outputs": []
    },
    {
      "cell_type": "code",
      "execution_count": null,
      "metadata": {
        "id": "QwfWxabNwNft"
      },
      "outputs": [],
      "source": [
        "%pip install ultralytics==8.0.20  # Belirli bir sürümde Ultralytics kütüphanesini yükleme\n",
        "\n",
        "from IPython import display  # IPython modülünden display modülünü içe aktarma\n",
        "display.clear_output()  # Hücrenin çıktısını temizleme\n",
        "\n",
        "import ultralytics  # Ultralytics kütüphanesini içe aktarma\n",
        "ultralytics.checks()  # Kurulumun doğruluğunu kontrol etme\n",
        "\n"
      ]
    },
    {
      "cell_type": "code",
      "source": [
        "# Git clone method\n",
        "# Bu kod, belirtilen GitHub depo adresinden yolov8 adlı bir depoyu klonlar.\n",
        "#!git clone git+https://github.com/ultralytics/yolov8.git\n",
        "\n",
        "# Bu kod, ultralytics paketini yükler.\n",
        "#%pip install -qe ultralytics\n",
        "\n",
        "# -q parametresi, kurulum işleminin sessiz (quiet) bir şekilde gerçekleşmesini sağlar, yani fazla çıktı vermez.\n",
        "# -e parametresi, proje klasörünün doğrudan yereldeki klasör yapısına bağlı olarak yüklenmesini sağlar, böylece yapılan değişiklikler anında yansıtılır."
      ],
      "metadata": {
        "id": "Vuav7SC3wYjG"
      },
      "execution_count": null,
      "outputs": []
    },
    {
      "cell_type": "code",
      "source": [
        "import os\n",
        "\n",
        "# Mevcut çalışma dizinini al\n",
        "HOME = os.getcwd()\n",
        "print(HOME)\n"
      ],
      "metadata": {
        "id": "0JpaMW9ywgKh"
      },
      "execution_count": null,
      "outputs": []
    },
    {
      "cell_type": "code",
      "source": [
        "from ultralytics import YOLO  # Ultralytics kütüphanesinden YOLO sınıfını içe aktarır\n",
        "\n",
        "from IPython.display import display, Image  # IPython'un display ve Image modüllerini içe aktarır\n"
      ],
      "metadata": {
        "id": "QTjKxG_VPoc4"
      },
      "execution_count": null,
      "outputs": []
    },
    {
      "cell_type": "code",
      "source": [
        "!pip install roboflow  # Roboflow paketini yükleme\n",
        "\n",
        "from roboflow import Roboflow  # Roboflow modülünden Roboflow sınıfını içe aktarma\n",
        "\n",
        "# Roboflow API anahtarını kullanarak Roboflow nesnesi oluşturma\n",
        "rf = Roboflow(api_key=\"zk6Asybe0aRrWPx8AvCp\")\n",
        "\n",
        "# Belirli bir Roboflow projesine ve sürüme erişme\n",
        "project = rf.workspace(\"circles\").project(\"tum-dataset\").version(6)\n",
        "\n",
        "# YOLOv8 formatında belirli bir sürümü indirme\n",
        "dataset = project.download(\"yolov8\")\n"
      ],
      "metadata": {
        "id": "yG2NosXPQiyY"
      },
      "execution_count": null,
      "outputs": []
    },
    {
      "cell_type": "code",
      "source": [
        "!chmod +r /content/tüm-dataset-6/data.yaml  # Belirtilen dosyaya okuma izni ekler\n",
        "\n",
        "# Bu komut, /content/tüm-dataset-6/data.yaml dosyasına okuma izni (+r) ekler.\n",
        "# chmod komutu, dosya izinlerini değiştirmek için kullanılır. +r, dosyaya okuma izni ekler.\n"
      ],
      "metadata": {
        "id": "-sTE3jV-8q11"
      },
      "execution_count": null,
      "outputs": []
    },
    {
      "cell_type": "code",
      "source": [
        "%cd {HOME}  # Mevcut çalışma dizinini belirtilen HOME değişkeninin değerine değiştirir\n",
        "\n",
        "# YOLO nesne tespiti görevi oluşturur ve eğitim modunda YOLOv8 modelini kullanarak belirtilen veri seti üzerinde eğitim yapar\n",
        "!yolo task=detect mode=train model=yolov8s.pt data={dataset.location}/data.yaml epochs=25 imgsz=800 plots=True\n"
      ],
      "metadata": {
        "id": "i6HHfg6pbAOo"
      },
      "execution_count": null,
      "outputs": []
    },
    {
      "cell_type": "code",
      "source": [
        "!ls {HOME}/runs/detect/train3/  # Belirtilen dizindeki dosyaları listeleme\n",
        "\n",
        "# Bu komut, HOME değişkeninde belirtilen dizin altında 'runs/detect/train/' dizinindeki dosyaları listeler.\n",
        "# Bu dizin, genellikle YOLO modelinin eğitimi sırasında oluşturulan çıktıları veya sonuçları içerir.\n",
        "# Eğitim sürecinde tespit edilen nesneler, performans metrikleri ve diğer çıktılar burada bulunabilir.\n"
      ],
      "metadata": {
        "id": "eNC2CvZDbw6N"
      },
      "execution_count": null,
      "outputs": []
    },
    {
      "cell_type": "code",
      "source": [
        "!ls {HOME}/runs/detect/train3/  # Belirtilen dizindeki dosyaları listeleme\n",
        "\n",
        "# Bu komut, HOME değişkeninde belirtilen dizin altında 'runs/detect/train3/' dizinindeki dosyaları listeler.\n",
        "# Ancak, eğer bu komut çalıştırıldığında herhangi bir çıktı alınmazsa, 'train3' adında bir dizin oluşturulmamış veya içeriği boş olabilir.\n",
        "# Eğer bu dizinde dosyaların olması gerekiyorsa, dizinin doğru adlandırıldığından ve içeriğinin beklediğiniz gibi olduğundan emin olmalısınız.\n"
      ],
      "metadata": {
        "id": "JZerWx9l8Tjg"
      },
      "execution_count": null,
      "outputs": []
    },
    {
      "cell_type": "code",
      "source": [
        "%cd {HOME}  # HOME dizinine geri dönüş yapma\n",
        "\n",
        "from IPython.display import Image  # IPython'un Image modülünü içe aktarma\n",
        "\n",
        "Image(filename=f'{HOME}/runs/detect/train3/confusion_matrix.png', width=600)  # Belirtilen görüntü dosyasını gösterme\n"
      ],
      "metadata": {
        "id": "amMH27SQ88G_"
      },
      "execution_count": null,
      "outputs": []
    },
    {
      "cell_type": "code",
      "source": [
        "%cd {HOME}  # HOME dizinine geri dönme\n",
        "\n",
        "from IPython.display import Image  # IPython'un Image modülünü içeri aktarma\n",
        "\n",
        "Image(filename=f'{HOME}/runs/detect/train3/results.png', width=600)  # Belirtilen görüntü dosyasını gösterme\n"
      ],
      "metadata": {
        "id": "2kTQK73K9Dsl"
      },
      "execution_count": null,
      "outputs": []
    }
  ]
}
